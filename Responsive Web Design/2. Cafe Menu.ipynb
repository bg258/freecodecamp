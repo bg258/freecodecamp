{
 "cells": [
  {
   "cell_type": "markdown",
   "metadata": {},
   "source": [
    "# **Responsive Web Design (CSS)** 💻\n",
    "CSS tells the browser how to display your webpage. You can use CSS to set the color, font, size, and other aspects of HTML elements. In this course, you'll learn CSS by designing a menu page for a cafe webpage."
   ]
  },
  {
   "cell_type": "markdown",
   "metadata": {},
   "source": [
    "# **2. Learn basic CSS by building a Cafe Menu** ☕\n",
    "In this project, you will learn the basics of CSS (Cascading Style Sheets) by building a cafe menu. CSS is the language used to style an HTML document. It describes how HTML elements should be displayed on the screen.\n",
    "\n",
    "As you learned in the last few steps of the Cat Photo App, there is a basic structure needed to start building your web page. Every HTML document should have a DOCTYPE declaration and html element. The DOCTYPE tells the browser which version of HTML the document is in. And the html element represents the root element which contains all other elements.\n",
    "\n",
    "```html\n",
    "<!DOCTYPE html>\n",
    "<html lang=\"en\">\n",
    "<!--all other elements go here-->\n",
    "</html>\n",
    "```\n",
    "\n"
   ]
  },
  {
   "cell_type": "markdown",
   "metadata": {},
   "source": [
    "# **Step 1**\n",
    "Up until now, you have been limited regarding the presentation and appearance of the content you create. To start taking control, add a **style** element within the **head** element. \n",
    "\n",
    "You can add a style to an element by specifying it in the **style** element and setting a property for it like this:\n",
    "\n",
    "```css\n",
    "element{\n",
    "    property: value;\n",
    "}\n",
    "```\n"
   ]
  },
  {
   "cell_type": "markdown",
   "metadata": {},
   "source": [
    "# **Step 2**\n",
    "```css\n",
    "    <style>\n",
    "      h1 {\n",
    "        text-align: center;\n",
    "      }\n",
    "      h2 {\n",
    "        text-align: center;\n",
    "      }\n",
    "      p {\n",
    "        text-align: center;\n",
    "      } \n",
    "    </style>\n",
    "```\n",
    "\n",
    "We now have three type selectors with the exact same styling. You can add the same of styles to many elements by creating a list of selectors. Each selector is separated with commas like this:\n",
    "\n",
    "```css\n",
    "selector1, selector2 {\n",
    "    property: value;\n",
    "}\n",
    "```"
   ]
  },
  {
   "cell_type": "markdown",
   "metadata": {},
   "source": [
    "# **Step 3**\n",
    "We have styled three elements by writing CSS inside the **style** tags. This works, but since there will be many more styles, it is best to put all the styles in a separate file and link to it. \n",
    "\n",
    "We have created a separate **style.css** file for you and switched the editor view to that file. You can change between files with the tabs at the top of the editor. \n",
    "\n",
    "Start by rewriting the styles you have created into the **styles.css** file. Make sure to exclude the opening and closing **style** tags. "
   ]
  },
  {
   "cell_type": "markdown",
   "metadata": {},
   "source": [
    "# **Step 4**\n",
    "Now you need to link the **style.css** file, so the styles will be applied again. Inside the **head** element, add a **link** element. Give it a **rel** attribute with the value **stylesheet** and a *href* attribute with the value of **style.css**"
   ]
  },
  {
   "cell_type": "markdown",
   "metadata": {},
   "source": [
    "# **Step 5**\n",
    "For the styling of the page to look similar on mobile as it does on a desktop, you need to add a **meta** element with a special **content** attribute. \n",
    "\n",
    "add the following within the **head** element:\n",
    "\n",
    "```html\n",
    "<meta name=\"viewport\" content=\"width=device-width, initial-scale=1.0\" />\n",
    "```"
   ]
  },
  {
   "cell_type": "markdown",
   "metadata": {},
   "source": [
    "# **Step 6**\n",
    "The **div** element is used mainly for design layout purposes unlike the other content elements you have used so far. Add a **div** element inside the **body** element and then move all other elements inside the new *div*.\n",
    "\n",
    "Inside the opening **div** tag, add the **id** attribute with a value of **menu**. "
   ]
  },
  {
   "cell_type": "markdown",
   "metadata": {},
   "source": [
    "# **Step 7**\n",
    "The goal now is to make the **div** not take up the entire width of the page. The CSS **width** property is perfect for this. \n",
    "\n",
    "You can use the **id** selector to target a specific element witg an **id** attribute. An **id** selector is defined by placing the hash symbol **#** directly in front of the element's **id** value. \n",
    "\n",
    "For example, if an element has the **id** of **cat** then you would target that element like this: \n",
    "\n",
    "```css\n",
    "#cat{\n",
    "    width: 250px;\n",
    "}\n",
    "```"
   ]
  },
  {
   "cell_type": "markdown",
   "metadata": {},
   "source": [
    "# **Step 8**\n",
    "Comments in CSS look like this:\n",
    "\n",
    "```css\n",
    "/* Comment here */\n",
    "```\n",
    "\n",
    "Next, we want to center the #menu horizontally, We can do this by setting its **margin-left** and **margin-right** properties to **auto**. ---> Think of the margin as invisible space around an element. Using these two margin properties, center the **#menu** element within the **body** element**. "
   ]
  },
  {
   "cell_type": "markdown",
   "metadata": {},
   "source": [
    "# **Step 9**\n",
    "So far you have been using type and id selectors to style elements. However, it is more common to use a different sector to style your elements. \n",
    "\n",
    "A class selector is defined by a name with a dot directly in front of it, like this:\n",
    "\n",
    "```css\n",
    ".class-name{\n",
    "    styles\n",
    "}\n",
    "```\n",
    "\n",
    "---> To apply the class's styling to the **div** element, remove the **id** attribute and add a **class** attribute to the **div** elements opening tag. Make sure to set the class value to menu. "
   ]
  },
  {
   "cell_type": "markdown",
   "metadata": {},
   "source": [
    "# **Step 10**\n",
    "**article** elements commonly contain multiple elements that have related information. In this case, it will contain a coffee flavor and a price for that flavor. \n",
    "\n",
    "```css\n",
    "<article>\n",
    "    <p>Pumpkin Spice</p>\n",
    "    <p>3.50</p>\n",
    "</article>\n",
    "```\n",
    "\n",
    "The flavors and prices are currently stacked on top of each other and centered with their respective **p** elements. It would be nice if the flavor was on the left and the price was on the right. Add the class name **flavor** to the **p** elements containing the coffee flavours. \n",
    "\n",
    "Using your new **flavor** class a selector, set the **text-align** property's value to left. "
   ]
  },
  {
   "cell_type": "markdown",
   "metadata": {},
   "source": [
    "# **Step 11**\n",
    "That is kind of what you want, but now it would be nice if the flavor and price were on the same line. **p** elements are *block-level* elements, so they take up the entire width of their parent element. \n",
    "\n",
    "To get them on the same line, we need to apply som styling to the **p** elements so they behave more like **inline** elements. To do that, start by adding a **class** attribute with the value **item** to the first **article** element under the **Coffee** heading."
   ]
  },
  {
   "cell_type": "markdown",
   "metadata": {},
   "source": [
    "# **Step 12**\n",
    "The **p** elements are nested in an **article** element with the class attribute of **item**. You can style all the **p** elements nested anywhere in elements with a class named **item** like this:\n",
    "\n",
    "```css\n",
    ".item p{\n",
    "\n",
    "}\n",
    "```\n",
    "\n",
    "Using the above selector, add a **display** property with a **value** *inline-block* so the **p** elements behave more like inline elements. "
   ]
  },
  {
   "cell_type": "markdown",
   "metadata": {},
   "source": [
    "# **Step 13**\n",
    "That is much closer, but the price did not stay over on the right. This is because **inline-block** elements only take up with the width of their content. To spread them out, add a **width** property to the **flavor** and **price** class selectors that have a value of 50% each. \n",
    "\n",
    "Well, that did not work either. Styling the **p** elements as **inline-block** and placing them on separate lines in code creates an extra space to the right of the first **p** element, causing the second one to shift to the next line. One way to fix this is to make each **p** elment's width a little less than 50%. \n",
    "\n",
    "Change the **width** value to 49% for each class to see what happens. "
   ]
  },
  {
   "cell_type": "markdown",
   "metadata": {},
   "source": [
    "# **Step 14**\n",
    "That worked, but there is still a little space on the right of the price. You could keep trying various percentages for the widths. Instead, use the backspace key on your keyboard to move the **p** element with the class **price** next to the **p** element with the class **flavor** so that they are on the same line in the editor. Make sure there is no space between the two elements. \n",
    "\n",
    "--> Now, we can go ahead and change both the **flavor** and **price** class' widths to be 50% again. "
   ]
  },
  {
   "cell_type": "markdown",
   "metadata": {},
   "source": [
    "# **Step 15** \n",
    "If you make the width of the page preview smaller, you will notice at some point, some of the text on the left starts wrapping around to the next line. This is because the width of the **p** elements on the left side can only take up 50% of the space. \n",
    "\n",
    "Since you know the prices on the right have significantly fewer characters, change the flavor class width value to be 75% and the price class width value to be 25%.\n",
    "\n"
   ]
  },
  {
   "cell_type": "markdown",
   "metadata": {},
   "source": [
    "# **Step 16**\n",
    "We can give our menu some space between the content and the sides with various **padding** properties. Give the **menu** class a **padding-left** and a **padding-right** with the same value **20px**"
   ]
  },
  {
   "cell_type": "markdown",
   "metadata": {},
   "source": [
    "# **Step 17**\n",
    "Since all 4 sides of the menu have the same internal spacing, go ahead and delete the four properties and use a single **padding** property with the value **20px**\n",
    "\n",
    "```css\n",
    "padding-top: 20px;\n",
    "padding-bottom: 20px;\n",
    "...\n",
    "```"
   ]
  },
  {
   "cell_type": "markdown",
   "metadata": {},
   "source": [
    "# **Step 18**\n",
    "The current width of the menu will always take up 80% of the **body** element's width. On a very wide screen, the coffee and dessert appear far apart from their prices. \n",
    "\n",
    "Add a **max-width** property to the **menu** class with a value of **500px** to prevent it from growing to wide. "
   ]
  },
  {
   "cell_type": "markdown",
   "metadata": {},
   "source": [
    "# **Step 19**\n",
    "The default properties of an **hr** element will make it appear as thin light grey line. You can change the height of the line by specifying a value for the **height** property. \n",
    "\n",
    "Notice how the thickness of the line looks bigger? The default value of a property named border-width is 1px for all edges of hr elements. By changing the border to the same color as the background, the total height of the line is 5px (3px plus the top and bottom border width of 1px)."
   ]
  },
  {
   "cell_type": "markdown",
   "metadata": {},
   "source": [
    "# **Step 20**"
   ]
  }
 ],
 "metadata": {
  "language_info": {
   "name": "python"
  }
 },
 "nbformat": 4,
 "nbformat_minor": 2
}
