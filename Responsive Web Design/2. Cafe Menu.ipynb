{
 "cells": [
  {
   "cell_type": "markdown",
   "metadata": {},
   "source": [
    "# **Responsive Web Design (CSS)** 💻\n",
    "CSS tells the browser how to display your webpage. You can use CSS to set the color, font, size, and other aspects of HTML elements. In this course, you'll learn CSS by designing a menu page for a cafe webpage."
   ]
  },
  {
   "cell_type": "markdown",
   "metadata": {},
   "source": [
    "# **2. Learn basic CSS by building a Cafe Menu** ☕\n",
    "In this project, you will learn the basics of CSS (Cascading Style Sheets) by building a cafe menu. CSS is the language used to style an HTML document. It describes how HTML elements should be displayed on the screen.\n",
    "\n",
    "As you learned in the last few steps of the Cat Photo App, there is a basic structure needed to start building your web page. Every HTML document should have a DOCTYPE declaration and html element. The DOCTYPE tells the browser which version of HTML the document is in. And the html element represents the root element which contains all other elements.\n",
    "\n",
    "```html\n",
    "<!DOCTYPE html>\n",
    "<html lang=\"en\">\n",
    "<!--all other elements go here-->\n",
    "</html>\n",
    "```\n",
    "\n"
   ]
  },
  {
   "cell_type": "markdown",
   "metadata": {},
   "source": [
    "# **Step 1**\n",
    "Up until now, you have been limited regarding the presentation and appearance of the content you create. To start taking control, add a **style** element within the **head** element. \n",
    "\n",
    "You can add a style to an element by specifying it in the **style** element and setting a property for it like this:\n",
    "\n",
    "```css\n",
    "element{\n",
    "    property: value;\n",
    "}\n",
    "```\n"
   ]
  },
  {
   "cell_type": "markdown",
   "metadata": {},
   "source": [
    "# **Step 2**\n",
    "```css\n",
    "    <style>\n",
    "      h1 {\n",
    "        text-align: center;\n",
    "      }\n",
    "      h2 {\n",
    "        text-align: center;\n",
    "      }\n",
    "      p {\n",
    "        text-align: center;\n",
    "      } \n",
    "    </style>\n",
    "```\n",
    "\n",
    "We now have three type selectors with the exact same styling. You can add the same of styles to many elements by creating a list of selectors. Each selector is separated with commas like this:\n",
    "\n",
    "```css\n",
    "selector1, selector2 {\n",
    "    property: value;\n",
    "}\n",
    "```"
   ]
  },
  {
   "cell_type": "markdown",
   "metadata": {},
   "source": [
    "# **Step 3**\n",
    "We have styled three elements by writing CSS inside the **style** tags. This works, but since there will be many more styles, it is best to put all the styles in a separate file and link to it. \n",
    "\n",
    "We have created a separate **style.css** file for you and switched the editor view to that file. You can change between files with the tabs at the top of the editor. \n",
    "\n",
    "Start by rewriting the styles you have created into the **styles.css** file. Make sure to exclude the opening and closing **style** tags. "
   ]
  }
 ],
 "metadata": {
  "language_info": {
   "name": "python"
  }
 },
 "nbformat": 4,
 "nbformat_minor": 2
}
