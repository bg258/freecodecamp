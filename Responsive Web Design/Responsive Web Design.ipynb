{
 "cells": [
  {
   "cell_type": "markdown",
   "metadata": {},
   "source": [
    "# **Responsive Web Design** 💻\n",
    "\n",
    "In this Responsive Web Design Certification, you'll learn the languages that developers use to build webpages: HTML (Hypertext Markup Language) for content, and CSS (Cascading Style Sheets) for design.\n",
    "\n",
    "First, you'll build a cat photo app to learn the basics of HTML and CSS. Later, you'll learn modern techniques like CSS variables by building a penguin, and best practices for accessibility by building a quiz site.\n",
    "\n",
    "Finally, you'll learn how to make webpages that respond to different screen sizes by building a photo gallery with Flexbox, and a magazine article layout with CSS Grid."
   ]
  },
  {
   "cell_type": "markdown",
   "metadata": {},
   "source": [
    "# **1. Learn HTML by building a Cat Photo App** 🐈\n",
    "HTML tags give a webpage its structure. You can use HTML tags to add photos, buttons, and other elements to your webpage.<br>\n",
    "In this course, you'll learn the most common HTML tags by building your own cat photo app.\n",
    "\n",
    "# **Step 1 of 69**\n",
    "HTML elements have an opening and closing tag with content in between. Here is the basic syntax:\n",
    "\n",
    "`<openingTag>content</openingTag>`\n",
    "\n",
    "The first element you will learn about is the **h1** element. The **h1** element is a heading element and is used for the main heading of a web page. \n",
    "\n",
    "```html\n",
    "<h1>This is a main heading</h1>\n",
    "```\n"
   ]
  }
 ],
 "metadata": {
  "language_info": {
   "name": "python"
  }
 },
 "nbformat": 4,
 "nbformat_minor": 2
}
