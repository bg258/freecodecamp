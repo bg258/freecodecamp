{
 "cells": [
  {
   "cell_type": "markdown",
   "metadata": {},
   "source": [
    "# **Responsive Web Design** 💻\n",
    "\n",
    "In this Responsive Web Design Certification, you'll learn the languages that developers use to build webpages: HTML (Hypertext Markup Language) for content, and CSS (Cascading Style Sheets) for design.\n",
    "\n",
    "First, you'll build a cat photo app to learn the basics of HTML and CSS. Later, you'll learn modern techniques like CSS variables by building a penguin, and best practices for accessibility by building a quiz site.\n",
    "\n",
    "Finally, you'll learn how to make webpages that respond to different screen sizes by building a photo gallery with Flexbox, and a magazine article layout with CSS Grid."
   ]
  },
  {
   "cell_type": "markdown",
   "metadata": {},
   "source": [
    "# **1. Learn HTML by building a Cat Photo App** 🐈\n",
    "HTML tags give a webpage its structure. You can use HTML tags to add photos, buttons, and other elements to your webpage.<br>\n",
    "In this course, you'll learn the most common HTML tags by building your own cat photo app.\n",
    "\n",
    "# **Step 1 of 69**\n",
    "HTML elements have an opening and closing tag with content in between. Here is the basic syntax:\n",
    "\n",
    "`<openingTag>content</openingTag>`\n",
    "\n",
    "The first element you will learn about is the **h1** element. The **h1** element is a heading element and is used for the main heading of a web page. \n",
    "\n",
    "```html\n",
    "<h1>This is a main heading</h1>\n",
    "```"
   ]
  },
  {
   "cell_type": "markdown",
   "metadata": {},
   "source": [
    "# **Step 2 of 69**\n",
    "The **h1** through **h6** heading elements are used to signify the importance of content below them. The lower the number, the higher the importance, so **h2** elements have less importance than **h1** elements. \n",
    "\n",
    "```html\n",
    "<h1>most important heading element</h1>\n",
    "<h2>second most important heading element</h2>\n",
    "<h3>third most important heading element</h3>\n",
    "<h4>fourth most important heading element</h4>\n",
    "<h5>fifth most important heading element</h5>\n",
    "<h6>least important heading element</h6>\n",
    "```"
   ]
  },
  {
   "cell_type": "markdown",
   "metadata": {},
   "source": [
    "# **Step 3 of 69**\n",
    "The **p** element is used to create a paragraph of text on websites.<br>\n"
   ]
  },
  {
   "cell_type": "markdown",
   "metadata": {},
   "source": [
    "# **Step 4 of 69**\n",
    "Commenting allows you to leave messages without affecting the browser display. It also allows you to make code inactive. A comment in HTML starts with **`<!-->`**, contains any number of lines of text, and ends with `-->`\n",
    "\n",
    "Here is an example of a comment with the TODO: Remove h1:\n",
    "\n",
    "```html\n",
    "<!-- TODO: Remove h1>\n",
    "```"
   ]
  },
  {
   "cell_type": "markdown",
   "metadata": {},
   "source": [
    "# **Step 5 of 69**\n",
    "HTML5 has some elements that identify different content areas. These elements make your HTML easier to read and help with Search Engine Optimization (SEO) and accessibility. \n",
    "\n",
    "The **main** element is used to represent the main content of the body of an HTML document. Content inside the **main** element should be unique to the document and should not be repeated in other parts of the document. \n",
    "\n",
    "```html\n",
    "<main>\n",
    "  <h1>Most important content of the document</h1>\n",
    "  <p>Some more important content...</p>\n",
    "</main>\n",
    "```"
   ]
  },
  {
   "cell_type": "markdown",
   "metadata": {},
   "source": [
    "# **Step 6 of 69**\n",
    "In the previous step, you put the **h1**, **h2**, comment, and **p** elements inside the **main** element. This is called *nesting*. Nested elements should be placed two spaces further to the right of the element they are nested in. This spacing is called indentation and it is used to make HTML easier to read. \n",
    "\n",
    "Here is an example of nesting and indentation:\n",
    "```html\n",
    "<main>\n",
    "    <h1>Most important content of the document</h1>\n",
    "    <p>Some more important content...</p>\n",
    "</main>\n",
    "```\n"
   ]
  },
  {
   "cell_type": "markdown",
   "metadata": {},
   "source": [
    "# **Step 7 of 69**\n",
    "You can add images to your website by using the **img** element. **img** elements have an opening tag without a closing tag. An element without a closing tag is known as a **void element**. \n"
   ]
  },
  {
   "cell_type": "markdown",
   "metadata": {},
   "source": [
    "# **Step 8 of 69**\n",
    "HTML **attributes** are special words used inside the opening tag of an element to control the element's behaviour. The **src** attribute in an **img** element specifies the image's **URL** (where the image is located). \n",
    "\n",
    "Here is an example of an **img** element with a **src** attribute pointing to the freeCodeCamp logo:\n",
    "\n",
    "```html\n",
    "<img src=\"https://cdn.freecodecamp.org/platform/universal/fcc_secondary.svg\">\n",
    "```\n",
    "\n"
   ]
  },
  {
   "cell_type": "markdown",
   "metadata": {},
   "source": [
    "# **Step 9 of 69**\n",
    "All **img** elements should have an **alt** attribute. The **alt** attribute's text is used for screen readers to improve accesability and is displayed if the image fails to load. \n",
    "\n",
    "Here is an example of an **img** element with an **alt** attribute:\n",
    "\n",
    "```html\n",
    "<img src=\"cat.jpg\" alt=\"A cat\">\n",
    "```"
   ]
  },
  {
   "cell_type": "markdown",
   "metadata": {},
   "source": [
    "# **Step 10 of 69**\n",
    "You can link to another page with the anchor (a) element. \n",
    "Here is an example linking to https://www.freecodecamp.org:\n",
    "\n",
    "```html\n",
    "<a href=\"https://www.freecodecamp.org\"></a>\n",
    "```"
   ]
  },
  {
   "cell_type": "markdown",
   "metadata": {},
   "source": []
  },
  {
   "cell_type": "markdown",
   "metadata": {},
   "source": []
  },
  {
   "cell_type": "markdown",
   "metadata": {},
   "source": [
    "# **Step 10** \n",
    "You can link to another page with the anchor (a) elemtn"
   ]
  }
 ],
 "metadata": {
  "language_info": {
   "name": "python"
  }
 },
 "nbformat": 4,
 "nbformat_minor": 2
}
