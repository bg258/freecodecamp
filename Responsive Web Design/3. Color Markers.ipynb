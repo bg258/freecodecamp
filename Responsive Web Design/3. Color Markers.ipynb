{
 "cells": [
  {
   "cell_type": "markdown",
   "metadata": {},
   "source": [
    "# **Responsive Web Design (CSS)** 💻\n",
    "CSS tells the browser how to display your webpage. You can use CSS to set the color, font, size, and other aspects of HTML elements. In this course, you'll learn CSS by designing a menu page for a cafe webpage."
   ]
  },
  {
   "cell_type": "markdown",
   "metadata": {},
   "source": [
    "# **3. Learn CSS Colors by Building a Set of Colored Markers**\n",
    "\n",
    "Selecting the correct colors for your webpage can greatly improve the aesthetic appeal to your readers.\n",
    "\n",
    "In this course, you'll build a set of colored markers. You'll learn different ways to set color values and how to pair colors with each other."
   ]
  },
  {
   "cell_type": "markdown",
   "metadata": {},
   "source": [
    "# **Step 1**\n",
    "Remember that the **title** element gives search engines extra information about the page. It also displays the content of that **title** element in two more ways: \n",
    "\n",
    "* in the title bar when the page is open \n",
    "* in the browser tab for the page when you hover on it. Even if that tab is not active, once you hover on the tab, the **title** text is displayed. \n",
    "\n",
    "*Within the **head** element, nest a **title** element with the text **Colored Markers***\n",
    "\n",
    "---> <---\n",
    "\n",
    "The **charset** attribute specifies the character encoding used by the document. **utf-8** (Unicode Transformation Format -8bit) is a character encoding standard used for electronic communication. *Inside the **head** element, nest a **meta** element with the attribute **charset** set to \"utf-8\"*\n",
    "\n",
    "---> <---\n",
    "\n",
    "You can have multiple **meta** elements on a web page. Each **meta** element adds information about the page that cannot be expressed by other **html** elements.\n"
   ]
  }
 ],
 "metadata": {
  "language_info": {
   "name": "python"
  }
 },
 "nbformat": 4,
 "nbformat_minor": 2
}
