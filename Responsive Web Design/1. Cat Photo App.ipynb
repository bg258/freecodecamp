{
 "cells": [
  {
   "cell_type": "markdown",
   "metadata": {},
   "source": [
    "# **Responsive Web Design** 💻\n",
    "\n",
    "In this Responsive Web Design Certification, you'll learn the languages that developers use to build webpages: HTML (Hypertext Markup Language) for content, and CSS (Cascading Style Sheets) for design.\n",
    "\n",
    "First, you'll build a cat photo app to learn the basics of HTML and CSS. Later, you'll learn modern techniques like CSS variables by building a penguin, and best practices for accessibility by building a quiz site.\n",
    "\n",
    "Finally, you'll learn how to make webpages that respond to different screen sizes by building a photo gallery with Flexbox, and a magazine article layout with CSS Grid."
   ]
  },
  {
   "cell_type": "markdown",
   "metadata": {},
   "source": [
    "# **1. Learn HTML by building a Cat Photo App** 🐈\n",
    "HTML tags give a webpage its structure. You can use HTML tags to add photos, buttons, and other elements to your webpage.<br>\n",
    "In this course, you'll learn the most common HTML tags by building your own cat photo app.\n",
    "\n",
    "# **Step 1**\n",
    "HTML elements have an opening and closing tag with content in between. Here is the basic syntax:\n",
    "\n",
    "`<openingTag>content</openingTag>`\n",
    "\n",
    "The first element you will learn about is the **h1** element. The **h1** element is a heading element and is used for the main heading of a web page. \n",
    "\n",
    "```html\n",
    "<h1>This is a main heading</h1>\n",
    "```"
   ]
  },
  {
   "cell_type": "markdown",
   "metadata": {},
   "source": [
    "# **Step 2**\n",
    "The **h1** through **h6** heading elements are used to signify the importance of content below them. The lower the number, the higher the importance, so **h2** elements have less importance than **h1** elements. \n",
    "\n",
    "```html\n",
    "<h1>most important heading element</h1>\n",
    "<h2>second most important heading element</h2>\n",
    "<h3>third most important heading element</h3>\n",
    "<h4>fourth most important heading element</h4>\n",
    "<h5>fifth most important heading element</h5>\n",
    "<h6>least important heading element</h6>\n",
    "```"
   ]
  },
  {
   "cell_type": "markdown",
   "metadata": {},
   "source": [
    "# **Step 3**\n",
    "The **p** element is used to create a paragraph of text on websites.<br>\n"
   ]
  },
  {
   "cell_type": "markdown",
   "metadata": {},
   "source": [
    "# **Step 4**\n",
    "Commenting allows you to leave messages without affecting the browser display. It also allows you to make code inactive. A comment in HTML starts with **`<!-->`**, contains any number of lines of text, and ends with `-->`\n",
    "\n",
    "Here is an example of a comment with the TODO: Remove h1:\n",
    "\n",
    "```html\n",
    "<!-- TODO: Remove h1>\n",
    "```"
   ]
  },
  {
   "cell_type": "markdown",
   "metadata": {},
   "source": [
    "# **Step 5**\n",
    "HTML5 has some elements that identify different content areas. These elements make your HTML easier to read and help with Search Engine Optimization (SEO) and accessibility. \n",
    "\n",
    "The **main** element is used to represent the main content of the body of an HTML document. Content inside the **main** element should be unique to the document and should not be repeated in other parts of the document. \n",
    "\n",
    "```html\n",
    "<main>\n",
    "  <h1>Most important content of the document</h1>\n",
    "  <p>Some more important content...</p>\n",
    "</main>\n",
    "```"
   ]
  },
  {
   "cell_type": "markdown",
   "metadata": {},
   "source": [
    "# **Step 6**\n",
    "In the previous step, you put the **h1**, **h2**, comment, and **p** elements inside the **main** element. This is called *nesting*. Nested elements should be placed two spaces further to the right of the element they are nested in. This spacing is called indentation and it is used to make HTML easier to read. \n",
    "\n",
    "Here is an example of nesting and indentation:\n",
    "```html\n",
    "<main>\n",
    "    <h1>Most important content of the document</h1>\n",
    "    <p>Some more important content...</p>\n",
    "</main>\n",
    "```\n"
   ]
  },
  {
   "cell_type": "markdown",
   "metadata": {},
   "source": [
    "# **Step 7**\n",
    "You can add images to your website by using the **img** element. **img** elements have an opening tag without a closing tag. An element without a closing tag is known as a **void element**. \n"
   ]
  },
  {
   "cell_type": "markdown",
   "metadata": {},
   "source": [
    "# **Step 8**\n",
    "HTML **attributes** are special words used inside the opening tag of an element to control the element's behaviour. The **src** attribute in an **img** element specifies the image's **URL** (where the image is located). \n",
    "\n",
    "Here is an example of an **img** element with a **src** attribute pointing to the freeCodeCamp logo:\n",
    "\n",
    "```html\n",
    "<img src=\"https://cdn.freecodecamp.org/platform/universal/fcc_secondary.svg\">\n",
    "```\n",
    "\n"
   ]
  },
  {
   "cell_type": "markdown",
   "metadata": {},
   "source": [
    "# **Step 9**\n",
    "All **img** elements should have an **alt** attribute. The **alt** attribute's text is used for screen readers to improve accesability and is displayed if the image fails to load. \n",
    "\n",
    "Here is an example of an **img** element with an **alt** attribute:\n",
    "\n",
    "```html\n",
    "<img src=\"cat.jpg\" alt=\"A cat\">\n",
    "```"
   ]
  },
  {
   "cell_type": "markdown",
   "metadata": {},
   "source": [
    "# **Step 10**\n",
    "You can link to another page with the anchor (a) element. \n",
    "Here is an example linking to https://www.freecodecamp.org:\n",
    "\n",
    "```html\n",
    "<a href=\"https://www.freecodecamp.org\"></a>\n",
    "```"
   ]
  },
  {
   "cell_type": "markdown",
   "metadata": {},
   "source": [
    "# **Step 11**\n",
    "A link's text must be placed between the opening and closing tags of an anchor (a) element. \n",
    "\n",
    "Here is an example of a link with the text **click here to go to freeCodeCamp.org:\n",
    "\n",
    "```html\n",
    "<a href=\"https://www.freecodecamp.org\">click here to go to freeCodeCamp.org</a>\n",
    "```"
   ]
  },
  {
   "cell_type": "markdown",
   "metadata": {},
   "source": [
    "# **Step 12**\n",
    "You can turn any text into a link, such as the text inside of a **p** element. \n",
    "\n",
    "**Example code**<br>\n",
    "```html\n",
    "<p>I think <a href=\"https://www.freecodecamp.org\">freeCodeCamp</a> is great.</p>\n",
    "```\n"
   ]
  },
  {
   "cell_type": "markdown",
   "metadata": {},
   "source": [
    "# **Step 13**\n",
    "To open links in a new tab, you can use the **target** attribute on the anchor (a) element. \n",
    "\n",
    "The **target** attribute specifies where to open the linked document. **target=_blank** opens the linked document in a new tab or window. \n",
    "\n",
    "Here is the basic syntax for an **a** element with a **target** attribute:\n",
    "\n",
    "```html\n",
    "<a href=\"https://www.freecodecamp.org\" target=\"_blank\">\n",
    "```"
   ]
  },
  {
   "cell_type": "markdown",
   "metadata": {},
   "source": [
    "# **Step 14**\n",
    "In previous steps you used an anchor element to turn text into a link. Other types of content can also be turnned inot a link by wrapping it in anchor tags. \n",
    "\n",
    "Here is an example of turning an image into a link:\n",
    "```html\n",
    "<a href=\"example-link\">\n",
    "    <img src=\"image-link.jpg\" alt=\"A photo of a cat.\">\n",
    "</a>\n",
    "```"
   ]
  },
  {
   "cell_type": "markdown",
   "metadata": {},
   "source": [
    "# **Step 15**\n",
    "Before adding any new content, you should make use of a **section** element to separate the cat photos content from the future content. \n",
    "\n",
    "The **section** element is used to define sections in a document, such as chapters, headers, footers, or any sections of the document. It is a semantic element that helps with **SEO** and accesability. \n",
    "\n",
    "```html\n",
    "<section>\n",
    "    <h2>Section title</h2>\n",
    "    <p>Section content...</p>\n",
    "</section>\n",
    "```\n",
    "\n",
    "When you add a lower rank heading element to the page, it is implied that you are starting a new subsection. "
   ]
  },
  {
   "cell_type": "markdown",
   "metadata": {},
   "source": [
    "# **Step 16**\n",
    "To create an unordered list of items, you can use the **ul** element. The **li** element on the other hand is used to create a list item in an ordered or unordered list. \n",
    "\n",
    "Here is an example of list items in an unordered list:\n",
    "```html\n",
    "<ul>\n",
    "  <li>milk</li>\n",
    "  <li>cheese</li>\n",
    "</ul>\n",
    "```\n",
    "\n"
   ]
  },
  {
   "cell_type": "markdown",
   "metadata": {},
   "source": [
    "# **Step 17**\n",
    "The **figure** element represents self-contained content and will allow you to associate an image with a caption. \n",
    "\n",
    "A figure caption (**figcaption**) element is used to add a caption to describe the image contained within the figure element. \n",
    "\n",
    "Here is an example of a **figcaption** element with the caption of **A cute cat**\n",
    "\n",
    "```html\n",
    "<figure>\n",
    "    <img src=\"image.jpg\" alt=\"A description of the image\">\n",
    "    <figcaption>A cute cat</figcaption>\n",
    "</figure>\n",
    "```"
   ]
  },
  {
   "cell_type": "markdown",
   "metadata": {},
   "source": [
    "# **Step 18**\n",
    "To place emphasis on a specific word or phrase, you can use the **em** element. \n",
    "\n",
    "The code for an ordered list (**ol**) is similar to an unordered list, but list items in an ordered list are numbered when displayed. \n",
    "\n",
    "```html\n",
    "    <ol>\n",
    "        <li>flea treatment</li>\n",
    "        <li>thunder</li>\n",
    "        <li>other cats</li>\n",
    "    </ol>\n",
    "```\n",
    "\n",
    "# **Step 19**\n",
    "The **strong** element is used to indicate that some text is of strong importance or urgent.\n",
    "\n",
    "---\n",
    "Now you will add a web form to collect information from users. The **form** element is used to get information from a user like their:\n",
    "* name\n",
    "* email \n",
    "* other details ...\n",
    "\n",
    "```html\n",
    "<form></form>\n",
    "```"
   ]
  },
  {
   "cell_type": "markdown",
   "metadata": {},
   "source": [
    "# **Step 20**\n",
    "The **action** attribute indicates where form data should be sent. Here is an example of a **FORM** element with an **action** attribute:\n",
    "\n",
    "```html\n",
    "<form action=\"/submit-url\"></form>\n",
    "```"
   ]
  },
  {
   "cell_type": "markdown",
   "metadata": {},
   "source": [
    "# **Step 21**\n",
    "The **input** element allows you several ways to collect data from a web form. Like **img** elements, **input** elements are a *void element* and do not need closing tags. \n",
    "\n",
    "There are many kinds of inputs you can create using the **type** attribute. You can easily create a password field, reset button, or a control to let users select a file from their computer. \n",
    "\n",
    "Create a text field to get text input from a user by adding the **type** attribute with the *value* **text** to the **input** element. "
   ]
  },
  {
   "cell_type": "markdown",
   "metadata": {},
   "source": [
    "# **Step 22**\n",
    "In order for a form's data to be accessed by the location specified in the **action** attribute, you must give the text field a **name** attribute and assign it a value to represent the data being submitted. \n",
    "\n",
    "Here is an example of an **input** element with a **name** attribute:\n",
    "\n",
    "```html\n",
    "<input type=\"text\" name=\"name\">\n",
    "```\n",
    "\n",
    "Placeholder text is used to give people a hint about what kind of information to enter into an input. Here is an example of an **input** element with a placeholder set to **Ex.Jane Doe**\n",
    "\n",
    "```html\n",
    "<input type=\"text\" placeholder=\"Ex. Jane Doe\">\n",
    "```\n",
    "\n"
   ]
  },
  {
   "cell_type": "markdown",
   "metadata": {},
   "source": [
    "# **Step 23**\n",
    "To prevent a user from submitting your form when required information is missing, you need to add the **required** attribute to an **input** element. There is no need to set a value to the **required** attribute. Instead, just add the the word **required** to the input element making sure there is space between it and other attributes. "
   ]
  },
  {
   "cell_type": "markdown",
   "metadata": {},
   "source": [
    "# **Step 24** \n",
    "The **button** element is used to create a clickable button. Add a **button** element with the text **Submit** below the input element. The default behaviour of clicking a form button without any attributes submits the form to the location specified in the form's **action** attribute. \n",
    "\n",
    "```html\n",
    "<button>Submit</button>\n",
    "```"
   ]
  },
  {
   "cell_type": "markdown",
   "metadata": {},
   "source": [
    "# **Step 25**\n",
    "Even though we have added our button below the text input, they appear next to each other on the page. That is because both **input** and **button** elements are *inline elements*, which do not appear on new lines. \n",
    "\n",
    "The button you added will submit the form by default. However, relying on default behaviour may cause confusion. Add the **type** attribute with the value **submit** to the **button** to make it clear that it is a submit button. \n",
    "\n",
    "<button type=\"submit\">Submit</button>"
   ]
  },
  {
   "cell_type": "markdown",
   "metadata": {},
   "source": [
    "# **Step 26** 📻\n",
    "You can use radio buttons for questions where you want only one answer out of multiple options. \n",
    "\n",
    "Here is an example of a radio button with the option of **cat**:\n",
    "\n",
    "```html\n",
    "<input type=\"radio\"> cat\n",
    "```"
   ]
  },
  {
   "cell_type": "markdown",
   "metadata": {},
   "source": [
    "# **Step 27**\n",
    "**label** elements are used to help associate the text for an *input* element with the **input** element itself (especially for assistive technologies like screen readers).\n",
    "\n",
    "Here is an example of a **label** element with a **radio** button:\n",
    "\n",
    "```html\n",
    "<label><input type=\"radio\">cat</label>\n",
    "```"
   ]
  },
  {
   "cell_type": "markdown",
   "metadata": {},
   "source": [
    "# **Step 28** 🔘\n",
    "The *id* attribute is used to identify specific HTML elements. Each id attribute's value must be unique from all other **id** values for the entire page. \n",
    "\n",
    "Here is an example of an **input** element with an **id** attribute:\n",
    "\n",
    "<input id=\"email\">\n",
    "\n",
    "Notice that both radio buttons can be selected at the same time. To make it so selecting one radio button automtically deselects the other, both buttons must have a **name** attribute with the same value. \n",
    "\n",
    "Here is an example of two radio buttons with the same **name** attribute:\n",
    "\n",
    "```html\n",
    "<input type=\"radio\" name=\"meal\"> Breakfast\n",
    "<input type=\"radio\" name=\"meal\"> Lunch\n",
    "```"
   ]
  },
  {
   "cell_type": "markdown",
   "metadata": {},
   "source": [
    "# **Step 29**\n",
    "If you select the *Indoor* radio button and submit the form, the form data for the button is based on its *name* and *value* attributes. Since your radio buttons do not have a **value** attribute, the form data will include **indoor-outdoor=on**, which is not useful when you have multiple buttons. \n",
    "\n",
    "Add a *value* attribute to both radio buttons. For convinience, set the **buttons** *value* attribute to the same value as its **id** value. "
   ]
  },
  {
   "cell_type": "markdown",
   "metadata": {},
   "source": [
    "# **Step 30**\n",
    "The **fieldset** element is used to group related inputs and labels together in a web form. **fieldset** elements are **block-level elements**, meaning that they appear on a new line. \n",
    "\n",
    "```html\n",
    "<fieldset>\n",
    "    <input type=\"radio\">cat\n",
    "    <input type=\"radio\">dogs\n",
    "</fieldset>\n",
    "```\n",
    "\n",
    "The **legend** element acts as a caption for the content in the **fieldset** element. It gives users context about what they should enter into that part of the form. "
   ]
  },
  {
   "cell_type": "markdown",
   "metadata": {},
   "source": [
    "# **Step 31**\n",
    "Forms commonly use checkboxes for questions that may have more than one answer. The *input* element with a **type** attribute set to **checkbox** creates a chechbox. \n",
    "\n",
    "```html\n",
    "<legend>What's your cat's personality?</legend>\n",
    "<input type=\"chechbox\">Loving\n",
    "```"
   ]
  },
  {
   "cell_type": "markdown",
   "metadata": {},
   "source": [
    "# **Step 32**\n",
    "There's another way to associate an **input** element's text with the element itself. You can nest the text within a **label** element and add a **for** attribute with the same value as the **input** element's **id** attribute. \n",
    "\n",
    "Here is an example of using the **for** attribute to associate a **label** with an **input** element:\n",
    "\n",
    "```html\n",
    "<label for=\"breakfast\"> Breakfast </label>\n",
    "<input id=\"breakfast\" type=\"radio\" name=\"meal\" value=\"breakfast\">\n",
    "```"
   ]
  },
  {
   "cell_type": "markdown",
   "metadata": {},
   "source": [
    "# **Step 33**\n",
    "Add the **name** attribute with the value **personality** to the checkbox **input** element. While you won't notice this in the browser, doing this makes it easier for a server to process your web form, especially when there are multiple checkboxes. \n",
    "\n",
    "Like radio buttons, form data for selected checkboxes are name / value attribute pairs. While the value attribute is optional, it's best practice to include it with any checkboxes or radio buttons on the page."
   ]
  },
  {
   "cell_type": "markdown",
   "metadata": {},
   "source": [
    "# **Step 34**\n",
    "In order to make a checkbox checked or radio button selected by default, you need to add the **checked** attribute to it. \n",
    "\n",
    "Here is an example of a radio button with the **checked** attribute:\n",
    "\n",
    "```html\n",
    "<input checked type=\"radio\" name=\"meal\" value=\"breakfast\"> Breakfast\n",
    "```"
   ]
  },
  {
   "cell_type": "markdown",
   "metadata": {},
   "source": [
    "# **Step 35**\n",
    "The **footer** element is used to define a footer for a document or section. A footer typically contains information about the author of the document, copyright data, links to terms of use, contact information, and more. \n",
    "\n",
    "After the **main** element, add a **footer** element. "
   ]
  },
  {
   "cell_type": "markdown",
   "metadata": {},
   "source": [
    "# **Step 36**\n",
    "Notice that everything you've added to the page so far is inside the body element. All page content elements that should be rendered to the page go inside the body element. However, other important information goes inside the head element.\n",
    "\n",
    "The head element is used to contain metadata about the document, such as its title, links to stylesheets, and scripts. Metadata is information about the page that isn't displayed directly on the page.\n",
    "\n",
    "Add a head element above the body element."
   ]
  },
  {
   "cell_type": "markdown",
   "metadata": {},
   "source": [
    "# **Step 37**\n",
    "Notice that the entire contents of the page are nested within an html element. The html element is the root element of an HTML page and wraps all content on the page.\n",
    "\n",
    "You can also specify the language of your page by adding the lang attribute to the html element.\n",
    "\n",
    "Add the **lang** attribute with the value **en** to the opening html tag to specify that the language of the page is English."
   ]
  },
  {
   "cell_type": "markdown",
   "metadata": {},
   "source": [
    "# **Step 38**\n",
    "You can set browser behavior by adding meta elements in the head. Here's an example:\n",
    "\n",
    "```html\n",
    "<meta attribute=\"value\">\n",
    "```\n",
    "\n",
    "Inside the head element, nest a meta element with an attribute named charset. Set to the value to utf-8 which tells the browser how to encode characters for the page.\n",
    "\n",
    "Note that the meta element is a void element."
   ]
  }
 ],
 "metadata": {
  "language_info": {
   "name": "python"
  }
 },
 "nbformat": 4,
 "nbformat_minor": 2
}
